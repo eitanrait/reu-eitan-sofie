{
 "cells": [
  {
   "cell_type": "code",
   "execution_count": 33,
   "id": "a7b285a4",
   "metadata": {},
   "outputs": [
    {
     "name": "stdout",
     "output_type": "stream",
     "text": [
      "/Users/eitanraitses/Desktop/repo/output\n"
     ]
    }
   ],
   "source": [
    "import pathlib\n",
    "path = pathlib.Path().resolve()\n",
    "print(path)"
   ]
  },
  {
   "cell_type": "code",
   "execution_count": 1,
   "id": "8e432db2",
   "metadata": {
    "scrolled": false
   },
   "outputs": [
    {
     "data": {
      "image/png": "[encoded data removed]",
      "text/plain": [
       "<Figure size 432x288 with 1 Axes>"
      ]
     },
     "metadata": {
      "needs_background": "light"
     },
     "output_type": "display_data"
    },
    {
     "name": "stdout",
     "output_type": "stream",
     "text": [
      "repeats over 2 times: 0\n",
      "repeats over 10 times: 0\n",
      "no repeats: 800\n"
     ]
    }
   ],
   "source": [
    "import pandas as pd\n",
    "import matplotlib.pyplot as plt\n",
    "import numpy as np\n",
    "import collections\n",
    "import os.path\n",
    "\n",
    "def merge(list1, list2):\n",
    "      \n",
    "    merged_list = [(list1[i], list2[i]) for i in range(0, len(list1))]\n",
    "    return merged_list\n",
    "\n",
    "def printDictionary(dict):\n",
    "    for key,value in dict:\n",
    "        print(key, value)\n",
    "\n",
    "# s is size of dots\n",
    "# title is title of plot and saved image\n",
    "# csvfile is file of the data we are plotting\n",
    "s = 1\n",
    "title = \"chasing 20%, 40%+1 40%-1\"\n",
    "csvfile = \"output.csv\"\n",
    "\n",
    "# need to have a 'chasingdata.csv' in the same directory as this file\n",
    "data = np.genfromtxt(csvfile, delimiter=\",\", dtype = float)\n",
    "u_i = [row[0] for row in data]\n",
    "u_j = [row[1] for row in data]\n",
    "v_i = [row[2] for row in data]\n",
    "v_j = [row[3] for row in data]\n",
    "time = len(v_j)\n",
    "\n",
    "v_coords = merge(v_i, v_j);\n",
    "#print(v_coords)\n",
    "\n",
    "# go through v_coords to find repeats\n",
    "\n",
    "freq = {}\n",
    "color = []\n",
    "\n",
    "for coord in v_coords:\n",
    "    if (coord in freq):\n",
    "        freq[coord] += 1\n",
    "    else:\n",
    "        freq[coord] = 1\n",
    "\n",
    "#uncomment to print  \n",
    "#printDictionary(freq.items())\n",
    "    \n",
    "over_2 = 0\n",
    "over_10 = 0\n",
    "regular = 0\n",
    "\n",
    "for i in range(len(v_coords)):\n",
    "    if freq.get(v_coords[i]) > 10:\n",
    "        color.append('red')\n",
    "        over_10 +=1\n",
    "    elif freq.get(v_coords[i]) > 2:\n",
    "        color.append('black')\n",
    "        over_2 +=1\n",
    "    else:\n",
    "        color.append('lightblue')\n",
    "        regular +=1\n",
    "\n",
    "# set up plot\n",
    "fig = plt.figure()\n",
    "ax = fig.add_subplot(111)\n",
    "ax.set_title(title)\n",
    "ax.grid(True)\n",
    "\n",
    "# add points to plot\n",
    "ax.scatter(u_i,u_j, s=s,c='orange')\n",
    "ax.scatter(v_i,v_j, s=s,c=color)\n",
    "\n",
    "# save in graphs/ directory\n",
    "path = 'graphs/'+title+'.png'\n",
    "dirname = os.path.dirname(path)\n",
    "plt.savefig(path, dpi=400)\n",
    "plt.show()\n",
    "print(\"repeats over 2 times:\", over_2)\n",
    "print(\"repeats over 10 times:\", over_10)\n",
    "print(\"no repeats:\", regular)\n"
   ]
  },
  {
   "cell_type": "code",
   "execution_count": null,
   "id": "8d0f6d98",
   "metadata": {},
   "outputs": [],
   "source": []
  },
  {
   "cell_type": "code",
   "execution_count": null,
   "id": "efc7629a",
   "metadata": {},
   "outputs": [],
   "source": []
  }
 ],
 "metadata": {
  "kernelspec": {
   "display_name": "Python 3",
   "language": "python",
   "name": "python3"
  },
  "language_info": {
   "codemirror_mode": {
    "name": "ipython",
    "version": 3
   },
   "file_extension": ".py",
   "mimetype": "text/x-python",
   "name": "python",
   "nbconvert_exporter": "python",
   "pygments_lexer": "ipython3",
   "version": "3.9.6"
  }
 },
 "nbformat": 4,
 "nbformat_minor": 5
}
